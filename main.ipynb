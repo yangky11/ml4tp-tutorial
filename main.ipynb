{
 "cells": [
  {
   "cell_type": "markdown",
   "id": "c369ece8-81bf-44ed-ad52-22d4dc5df0a2",
   "metadata": {},
   "source": [
    "NeurIPS 2023 Tutorial on Machine Learning for Theorem Proving\n",
    "============================================================="
   ]
  },
  {
   "cell_type": "code",
   "execution_count": 1,
   "id": "b1bbb7fd-45d3-4b96-82e1-a03b2ae39f80",
   "metadata": {},
   "outputs": [
    {
     "data": {
      "text/plain": [
       "<torch._C.Generator at 0x7f0f3f768fd0>"
      ]
     },
     "execution_count": 1,
     "metadata": {},
     "output_type": "execute_result"
    }
   ],
   "source": [
    "import torch\n",
    "import random\n",
    "import numpy as np\n",
    "from tqdm import tqdm\n",
    "from lean_dojo import *\n",
    "from datasets import Dataset\n",
    "from typing import List, Dict\n",
    "from transformers import AutoModelForSeq2SeqLM, AutoTokenizer, Seq2SeqTrainer, Seq2SeqTrainingArguments, DataCollatorForSeq2Seq\n",
    "\n",
    "# https://arxiv.org/abs/2109.08203\n",
    "random.seed(3407)\n",
    "np.random.seed(3407)\n",
    "torch.manual_seed(3407)"
   ]
  },
  {
   "cell_type": "markdown",
   "id": "d3a26cdf-9d79-4612-a271-8871b0bc8634",
   "metadata": {},
   "source": [
    "## Data Extraction\n",
    "\n",
    "We use [LeanDojo](https://leandojo.org/) to extract state-tactic pairs from mathlib."
   ]
  },
  {
   "cell_type": "code",
   "execution_count": 2,
   "id": "59a1ad05-2ab8-4bc8-b137-c8d602cd0ec4",
   "metadata": {},
   "outputs": [],
   "source": [
    "repo = LeanGitRepo(\n",
    "    \"https://github.com/leanprover-community/mathlib4\",\n",
    "    \"3ce43c18f614b76e161f911b75a3e1ef641620ff\",\n",
    ")\n",
    "\n",
    "repo.show()"
   ]
  },
  {
   "cell_type": "code",
   "execution_count": null,
   "id": "dcd8b02e-be5b-4622-a37c-b762e2becde2",
   "metadata": {},
   "outputs": [
    {
     "name": "stderr",
     "output_type": "stream",
     "text": [
      "\u001b[32m2023-11-27 06:58:20.091\u001b[0m | \u001b[1mINFO    \u001b[0m | \u001b[36mlean_dojo.data_extraction.trace\u001b[0m:\u001b[36mtrace\u001b[0m:\u001b[36m182\u001b[0m - \u001b[1mLoading the traced repo from /home/kaiyu/.cache/lean_dojo/leanprover-community-mathlib4-3ce43c18f614b76e161f911b75a3e1ef641620ff/mathlib4\u001b[0m\n",
      "2023-11-27 06:58:22,743\tINFO worker.py:1664 -- Started a local Ray instance. View the dashboard at \u001b[1m\u001b[32m127.0.0.1:8265 \u001b[39m\u001b[22m\n",
      "100%|██████████████████████████████████████████████████| 4462/4462 [09:35<00:00,  7.75it/s]\n",
      "Following Github server redirection from /repos/mhuisi/lean4-cli to /repositories/341363356\n",
      "Following Github server redirection from /repos/mhuisi/lean4-cli to /repositories/341363356\n",
      "Following Github server redirection from /repos/mhuisi/lean4-cli to /repositories/341363356\n",
      "Following Github server redirection from /repos/mhuisi/lean4-cli to /repositories/341363356\n",
      "Following Github server redirection from /repos/mhuisi/lean4-cli to /repositories/341363356\n",
      "Following Github server redirection from /repos/mhuisi/lean4-cli to /repositories/341363356\n",
      "Following Github server redirection from /repos/mhuisi/lean4-cli to /repositories/341363356\n",
      "Following Github server redirection from /repos/mhuisi/lean4-cli to /repositories/341363356\n"
     ]
    }
   ],
   "source": [
    "traced_repo = trace(repo)  # A few minutes, depending on #CPUs."
   ]
  },
  {
   "cell_type": "code",
   "execution_count": null,
   "id": "746da4ce-5a1a-4f42-9d2c-6c1ed72c6e30",
   "metadata": {},
   "outputs": [],
   "source": [
    "theorems = traced_repo.get_traced_theorems()\n",
    "state_tactic_pairs = []\n",
    "\n",
    "for thm in tqdm(theorems):\n",
    "  for t in thm.get_traced_tactics():\n",
    "    state_tactic_pairs.append({\n",
    "        \"state\": t.state_before, \n",
    "        \"tactic\": t.tactic\n",
    "    })\n",
    "\n",
    "print(f\"{len(state_tactic_pairs)} state-tactic pairs\")"
   ]
  },
  {
   "cell_type": "code",
   "execution_count": 14,
   "id": "0a6abbcf-c27d-4d6f-b93c-0f4a67954564",
   "metadata": {},
   "outputs": [
    {
     "data": {
      "text/plain": [
       "{'state': 'α : Type u_1\\nβ : Type u_2\\nks : Array α\\nvs : Array β\\nh : Array.size ks = Array.size vs\\ni : Fin (Array.size ks)\\nj : Fin (Array.size vs)\\nk : α\\nv : β\\n⊢ Array.size (Array.set ks i k) = Array.size (Array.set vs j v)',\n",
       " 'tactic': 'simp [h]'}"
      ]
     },
     "execution_count": 14,
     "metadata": {},
     "output_type": "execute_result"
    }
   ],
   "source": [
    "st = state_tactic_pairs[0]\n",
    "st"
   ]
  },
  {
   "cell_type": "code",
   "execution_count": 15,
   "id": "86b2a136-4289-4ae9-89a3-9ea18d9227b4",
   "metadata": {},
   "outputs": [
    {
     "name": "stdout",
     "output_type": "stream",
     "text": [
      "α : Type u_1\n",
      "β : Type u_2\n",
      "ks : Array α\n",
      "vs : Array β\n",
      "h : Array.size ks = Array.size vs\n",
      "i : Fin (Array.size ks)\n",
      "j : Fin (Array.size vs)\n",
      "k : α\n",
      "v : β\n",
      "⊢ Array.size (Array.set ks i k) = Array.size (Array.set vs j v)\n"
     ]
    }
   ],
   "source": [
    "print(st[\"state\"])"
   ]
  },
  {
   "cell_type": "code",
   "execution_count": 17,
   "id": "1fe04565-4809-4494-8f02-59711f8b1279",
   "metadata": {},
   "outputs": [
    {
     "name": "stdout",
     "output_type": "stream",
     "text": [
      "simp [h]\n"
     ]
    }
   ],
   "source": [
    "print(st[\"tactic\"])"
   ]
  },
  {
   "cell_type": "markdown",
   "id": "b99349c6-a622-46b8-a452-1707f7280967",
   "metadata": {},
   "source": [
    "## Finetuning Language Models for Tactic Generation"
   ]
  },
  {
   "cell_type": "code",
   "execution_count": 24,
   "id": "b08ea8c2-ee02-4cd5-ac6b-f286c61720f2",
   "metadata": {},
   "outputs": [],
   "source": [
    "model = AutoModelForSeq2SeqLM.from_pretrained(\"google/byt5-small\")\n",
    "tokenizer = AutoTokenizer.from_pretrained(\"google/byt5-small\")"
   ]
  },
  {
   "cell_type": "code",
   "execution_count": 25,
   "id": "8a5ee8d2-aa3d-4f83-8ef9-ca0e28f733e4",
   "metadata": {},
   "outputs": [
    {
     "data": {
      "application/vnd.jupyter.widget-view+json": {
       "model_id": "4492b2356e0f4e2e963fb5f032b4bed2",
       "version_major": 2,
       "version_minor": 0
      },
      "text/plain": [
       "Map:   0%|          | 0/10000 [00:00<?, ? examples/s]"
      ]
     },
     "metadata": {},
     "output_type": "display_data"
    },
    {
     "data": {
      "text/plain": [
       "Dataset({\n",
       "    features: ['state', 'tactic', 'input_ids', 'attention_mask', 'labels'],\n",
       "    num_rows: 10000\n",
       "})"
      ]
     },
     "execution_count": 25,
     "metadata": {},
     "output_type": "execute_result"
    }
   ],
   "source": [
    "def tokenize(examples):\n",
    "  model_inputs = tokenizer(examples[\"state\"], max_length=2048, truncation=True)\n",
    "  labels = tokenizer(text_target=examples[\"tactic\"], max_length=2048, truncation=True)\n",
    "  model_inputs[\"labels\"] = labels[\"input_ids\"]\n",
    "  return model_inputs\n",
    "\n",
    "dataset = Dataset.from_list(state_tactic_pairs).shuffle().select(range(10000))\n",
    "tokenized_dataset = dataset.map(tokenize, batched=True)\n",
    "\n",
    "tokenized_dataset"
   ]
  },
  {
   "cell_type": "code",
   "execution_count": 26,
   "id": "fe9d715f-9cda-4e39-abf2-60b758eb0ce7",
   "metadata": {},
   "outputs": [
    {
     "name": "stderr",
     "output_type": "stream",
     "text": [
      "Detected kernel version 5.4.0, which is below the recommended minimum of 5.5.0; this can cause the process to hang. It is recommended to upgrade the kernel to the minimum version or higher.\n"
     ]
    },
    {
     "data": {
      "text/html": [
       "\n",
       "    <div>\n",
       "      \n",
       "      <progress value='2' max='2' style='width:300px; height:20px; vertical-align: middle;'></progress>\n",
       "      [2/2 00:55, Epoch 0/1]\n",
       "    </div>\n",
       "    <table border=\"1\" class=\"dataframe\">\n",
       "  <thead>\n",
       " <tr style=\"text-align: left;\">\n",
       "      <th>Step</th>\n",
       "      <th>Training Loss</th>\n",
       "    </tr>\n",
       "  </thead>\n",
       "  <tbody>\n",
       "  </tbody>\n",
       "</table><p>"
      ],
      "text/plain": [
       "<IPython.core.display.HTML object>"
      ]
     },
     "metadata": {},
     "output_type": "display_data"
    },
    {
     "data": {
      "text/plain": [
       "TrainOutput(global_step=2, training_loss=4.023161888122559, metrics={'train_runtime': 74.8826, 'train_samples_per_second': 0.214, 'train_steps_per_second': 0.027, 'total_flos': 39750274676736.0, 'train_loss': 4.023161888122559, 'epoch': 0.0})"
      ]
     },
     "execution_count": 26,
     "metadata": {},
     "output_type": "execute_result"
    }
   ],
   "source": [
    "# This is just an example. \n",
    "training_args = Seq2SeqTrainingArguments(output_dir=\"./results\", learning_rate=1e-5, per_device_train_batch_size=8, max_steps=2, use_cpu=True)\n",
    "data_collator = DataCollatorForSeq2Seq(tokenizer=tokenizer, model=model)\n",
    "\n",
    "trainer = Seq2SeqTrainer(\n",
    "    model=model,\n",
    "    tokenizer=tokenizer,\n",
    "    args=training_args,\n",
    "    train_dataset=tokenized_dataset,\n",
    "    data_collator=data_collator,\n",
    ")\n",
    "\n",
    "trainer.train()"
   ]
  },
  {
   "cell_type": "markdown",
   "id": "7866872a-93ed-4bbc-bd08-bc85c7f36149",
   "metadata": {},
   "source": [
    "## Inspecting the Trained Tactic Generator"
   ]
  },
  {
   "cell_type": "code",
   "execution_count": 27,
   "id": "37e5bd19-9b1c-41c9-b474-71ec03402120",
   "metadata": {},
   "outputs": [],
   "source": [
    "tokenizer = AutoTokenizer.from_pretrained(\"kaiyuy/leandojo-lean4-tacgen-byt5-small\")\n",
    "model = AutoModelForSeq2SeqLM.from_pretrained(\"kaiyuy/leandojo-lean4-tacgen-byt5-small\")"
   ]
  },
  {
   "cell_type": "code",
   "execution_count": 32,
   "id": "94e4bac5-f057-4a81-96a6-2e69acd0a083",
   "metadata": {},
   "outputs": [
    {
     "data": {
      "text/plain": [
       "transformers.models.t5.modeling_t5.T5ForConditionalGeneration"
      ]
     },
     "execution_count": 32,
     "metadata": {},
     "output_type": "execute_result"
    }
   ],
   "source": [
    "type(model)"
   ]
  },
  {
   "cell_type": "code",
   "execution_count": 33,
   "id": "380c10da-9c08-421e-9f5c-0ec7d44139fb",
   "metadata": {},
   "outputs": [
    {
     "data": {
      "text/plain": [
       "transformers.models.byt5.tokenization_byt5.ByT5Tokenizer"
      ]
     },
     "execution_count": 33,
     "metadata": {},
     "output_type": "execute_result"
    }
   ],
   "source": [
    "type(tokenizer)"
   ]
  },
  {
   "cell_type": "code",
   "execution_count": 38,
   "id": "c6acc714-f761-482a-bb47-f93e8f592d35",
   "metadata": {},
   "outputs": [
    {
     "name": "stdout",
     "output_type": "stream",
     "text": [
      "rw [gcd_comm]\n",
      "\n"
     ]
    }
   ],
   "source": [
    "def generate_one_tactic(state: str) -> str:\n",
    "    \"\"\"Generate a single tactic.\"\"\"\n",
    "    tokenized_state = tokenizer(state, return_tensors=\"pt\")\n",
    "    tactic_ids = model.generate(tokenized_state.input_ids, max_length=1024)\n",
    "    tactic = tokenizer.decode(tactic_ids[0], skip_special_tokens=True)\n",
    "    print(tactic, end=\"\\n\\n\")\n",
    "\n",
    "generate_one_tactic(\"n : ℕ\\n⊢ gcd n n = n\")"
   ]
  },
  {
   "cell_type": "code",
   "execution_count": 39,
   "id": "03109d35-9f7d-4550-88a8-8cb027d403a6",
   "metadata": {},
   "outputs": [
    {
     "name": "stdout",
     "output_type": "stream",
     "text": [
      "rw [gcd_comm]\n",
      "induction' n with n IH\n",
      "induction' n with n hn\n",
      "cases n\n",
      "rw [gcd]\n",
      "induction' n with n ih\n",
      "unfold gcd\n",
      "rw [gcd_comm, gcd_gcd_self_right]\n"
     ]
    }
   ],
   "source": [
    "def generate_tactics(state: str, k: int = 8) -> List[str]:\n",
    "    \"\"\"Generate multiple tactics via beam search.\"\"\"\n",
    "    tactic_candidates_ids = model.generate(\n",
    "        tokenized_state.input_ids,\n",
    "        max_length=1024,\n",
    "        num_beams=k,\n",
    "        length_penalty=0.0,\n",
    "        do_sample=False,\n",
    "        num_return_sequences=k,\n",
    "        early_stopping=False,\n",
    "    )\n",
    "    tactic_candidates = tokenizer.batch_decode(\n",
    "        tactic_candidates_ids, skip_special_tokens=True\n",
    "    )\n",
    "    return tactic_candidates\n",
    "\n",
    "for tac in generate_tactics(\"n : ℕ\\n⊢ gcd n n = n\"):\n",
    "    print(tac)"
   ]
  },
  {
   "cell_type": "markdown",
   "id": "fb46b438-802d-41a1-86f8-03610b175411",
   "metadata": {},
   "source": [
    "## Interacting with Lean"
   ]
  },
  {
   "cell_type": "code",
   "execution_count": 41,
   "id": "6cec246a-5e70-48e3-8f7d-861e5095280b",
   "metadata": {},
   "outputs": [
    {
     "name": "stderr",
     "output_type": "stream",
     "text": [
      "\u001b[32m2023-11-27 06:52:37.322\u001b[0m | \u001b[33m\u001b[1mWARNING \u001b[0m | \u001b[36mlean_dojo.interaction.dojo\u001b[0m:\u001b[36m__init__\u001b[0m:\u001b[36m172\u001b[0m - \u001b[33m\u001b[1mUsing Lean 4 without a hard timeout may hang indefinitely.\u001b[0m\n"
     ]
    },
    {
     "ename": "DojoInitError",
     "evalue": "Cannot find the *.ast.json file for Theorem(repo=LeanGitRepo(url='https://github.com/yangky11/lean4-example', commit='dc7e97b1c919555865b1b20ddda38267037d3814'), file_path=PosixPath('Gcd.lean'), full_name='Hidden.gcd_self') in /home/kaiyu/.cache/lean_dojo/yangky11-lean4-example-dc7e97b1c919555865b1b20ddda38267037d3814/lean4-example.",
     "output_type": "error",
     "traceback": [
      "\u001b[0;31m---------------------------------------------------------------------------\u001b[0m",
      "\u001b[0;31mFileNotFoundError\u001b[0m                         Traceback (most recent call last)",
      "File \u001b[0;32m~/miniconda3/envs/ml4tp/lib/python3.10/site-packages/lean_dojo/interaction/dojo.py:213\u001b[0m, in \u001b[0;36mDojo.__enter__\u001b[0;34m(self)\u001b[0m\n\u001b[1;32m    212\u001b[0m \u001b[38;5;28;01mtry\u001b[39;00m:\n\u001b[0;32m--> 213\u001b[0m     traced_file \u001b[38;5;241m=\u001b[39m \u001b[38;5;28;43mself\u001b[39;49m\u001b[38;5;241;43m.\u001b[39;49m\u001b[43m_locate_traced_file\u001b[49m\u001b[43m(\u001b[49m\u001b[43mtraced_repo_path\u001b[49m\u001b[43m)\u001b[49m\n\u001b[1;32m    214\u001b[0m \u001b[38;5;28;01mexcept\u001b[39;00m \u001b[38;5;167;01mFileNotFoundError\u001b[39;00m:\n",
      "File \u001b[0;32m~/miniconda3/envs/ml4tp/lib/python3.10/site-packages/lean_dojo/interaction/dojo.py:297\u001b[0m, in \u001b[0;36mDojo._locate_traced_file\u001b[0;34m(self, traced_repo_path)\u001b[0m\n\u001b[1;32m    296\u001b[0m json_path \u001b[38;5;241m=\u001b[39m to_json_path(traced_repo_path, \u001b[38;5;28mself\u001b[39m\u001b[38;5;241m.\u001b[39mfile_path, \u001b[38;5;28mself\u001b[39m\u001b[38;5;241m.\u001b[39mrepo)\n\u001b[0;32m--> 297\u001b[0m \u001b[38;5;28;01mreturn\u001b[39;00m TracedFile\u001b[38;5;241m.\u001b[39mfrom_traced_file(traced_repo_path, json_path, \u001b[38;5;28mself\u001b[39m\u001b[38;5;241m.\u001b[39mrepo)\n",
      "File \u001b[0;32m~/miniconda3/envs/ml4tp/lib/python3.10/site-packages/lean_dojo/data_extraction/traced_data.py:658\u001b[0m, in \u001b[0;36mfrom_traced_file\u001b[0;34m(cls, root_dir, json_path, repo)\u001b[0m\n\u001b[1;32m    656\u001b[0m data \u001b[38;5;241m=\u001b[39m json\u001b[38;5;241m.\u001b[39mload(json_path\u001b[38;5;241m.\u001b[39mopen())\n\u001b[0;32m--> 658\u001b[0m exprs, expr_tags_map \u001b[38;5;241m=\u001b[39m parse_exprs_forest(data)\n\u001b[1;32m    659\u001b[0m data[\u001b[38;5;124m\"\u001b[39m\u001b[38;5;124mexpr_tags_map\u001b[39m\u001b[38;5;124m\"\u001b[39m] \u001b[38;5;241m=\u001b[39m expr_tags_map\n",
      "\u001b[0;31mFileNotFoundError\u001b[0m: /raid/kaiyu/.cache/lean_dojo/yangky11-lean4-example-dc7e97b1c919555865b1b20ddda38267037d3814/lean4-example/build/ir/Gcd.ast.json does not exist",
      "\nDuring handling of the above exception, another exception occurred:\n",
      "\u001b[0;31mDojoInitError\u001b[0m                             Traceback (most recent call last)",
      "Cell \u001b[0;32mIn[41], line 5\u001b[0m\n\u001b[1;32m      2\u001b[0m theorem \u001b[38;5;241m=\u001b[39m Theorem(repo, \u001b[38;5;124m\"\u001b[39m\u001b[38;5;124mGcd.lean\u001b[39m\u001b[38;5;124m\"\u001b[39m, \u001b[38;5;124m\"\u001b[39m\u001b[38;5;124mHidden.gcd_self\u001b[39m\u001b[38;5;124m\"\u001b[39m)\n\u001b[1;32m      4\u001b[0m \u001b[38;5;66;03m# For some theorems, it might take a few minutes.\u001b[39;00m\n\u001b[0;32m----> 5\u001b[0m dojo, state_0 \u001b[38;5;241m=\u001b[39m \u001b[43mDojo\u001b[49m\u001b[43m(\u001b[49m\u001b[43mtheorem\u001b[49m\u001b[43m)\u001b[49m\u001b[38;5;241;43m.\u001b[39;49m\u001b[38;5;21;43m__enter__\u001b[39;49m\u001b[43m(\u001b[49m\u001b[43m)\u001b[49m\n",
      "File \u001b[0;32m~/miniconda3/envs/ml4tp/lib/python3.10/site-packages/lean_dojo/interaction/dojo.py:293\u001b[0m, in \u001b[0;36mDojo.__enter__\u001b[0;34m(self)\u001b[0m\n\u001b[1;32m    291\u001b[0m os\u001b[38;5;241m.\u001b[39mchdir(\u001b[38;5;28mself\u001b[39m\u001b[38;5;241m.\u001b[39morigin_dir)\n\u001b[1;32m    292\u001b[0m shutil\u001b[38;5;241m.\u001b[39mrmtree(\u001b[38;5;28mself\u001b[39m\u001b[38;5;241m.\u001b[39mtmp_dir)\n\u001b[0;32m--> 293\u001b[0m \u001b[38;5;28;01mraise\u001b[39;00m ex\n",
      "File \u001b[0;32m~/miniconda3/envs/ml4tp/lib/python3.10/site-packages/lean_dojo/interaction/dojo.py:215\u001b[0m, in \u001b[0;36mDojo.__enter__\u001b[0;34m(self)\u001b[0m\n\u001b[1;32m    213\u001b[0m     traced_file \u001b[38;5;241m=\u001b[39m \u001b[38;5;28mself\u001b[39m\u001b[38;5;241m.\u001b[39m_locate_traced_file(traced_repo_path)\n\u001b[1;32m    214\u001b[0m \u001b[38;5;28;01mexcept\u001b[39;00m \u001b[38;5;167;01mFileNotFoundError\u001b[39;00m:\n\u001b[0;32m--> 215\u001b[0m     \u001b[38;5;28;01mraise\u001b[39;00m DojoInitError(\n\u001b[1;32m    216\u001b[0m         \u001b[38;5;124mf\u001b[39m\u001b[38;5;124m\"\u001b[39m\u001b[38;5;124mCannot find the *.ast.json file for \u001b[39m\u001b[38;5;132;01m{\u001b[39;00m\u001b[38;5;28mself\u001b[39m\u001b[38;5;241m.\u001b[39mentry\u001b[38;5;132;01m}\u001b[39;00m\u001b[38;5;124m in \u001b[39m\u001b[38;5;132;01m{\u001b[39;00mtraced_repo_path\u001b[38;5;132;01m}\u001b[39;00m\u001b[38;5;124m.\u001b[39m\u001b[38;5;124m\"\u001b[39m\n\u001b[1;32m    217\u001b[0m     )\n\u001b[1;32m    219\u001b[0m \u001b[38;5;28mself\u001b[39m\u001b[38;5;241m.\u001b[39m_modify_file(traced_file)\n\u001b[1;32m    221\u001b[0m \u001b[38;5;66;03m# The REPL code cannot be used to interact with its own dependencies.\u001b[39;00m\n",
      "\u001b[0;31mDojoInitError\u001b[0m: Cannot find the *.ast.json file for Theorem(repo=LeanGitRepo(url='https://github.com/yangky11/lean4-example', commit='dc7e97b1c919555865b1b20ddda38267037d3814'), file_path=PosixPath('Gcd.lean'), full_name='Hidden.gcd_self') in /home/kaiyu/.cache/lean_dojo/yangky11-lean4-example-dc7e97b1c919555865b1b20ddda38267037d3814/lean4-example."
     ]
    }
   ],
   "source": [
    "repo = LeanGitRepo(\"https://github.com/yangky11/lean4-example\", \"dc7e97b1c919555865b1b20ddda38267037d3814\")\n",
    "theorem = Theorem(repo, \"Gcd.lean\", \"Hidden.gcd_self\")\n",
    "\n",
    "# For some theorems, it might take a few minutes.\n",
    "dojo, state_0 = Dojo(theorem).__enter__()"
   ]
  },
  {
   "cell_type": "code",
   "execution_count": 16,
   "id": "7472faca-0ff2-4874-9063-af7754f0d9c0",
   "metadata": {},
   "outputs": [
    {
     "name": "stdout",
     "output_type": "stream",
     "text": [
      "R✝ : Type u_1\n",
      "R₁ : Type u_2\n",
      "R₂ : Type u_3\n",
      "R₃ : Type u_4\n",
      "R₄ : Type u_5\n",
      "S : Type u_6\n",
      "K : Type u_7\n",
      "K₂ : Type u_8\n",
      "M : Type u_9\n",
      "M' : Type u_10\n",
      "M₁ : Type u_11\n",
      "M₂ : Type u_12\n",
      "M₃ : Type u_13\n",
      "M₄ : Type u_14\n",
      "N : Type u_15\n",
      "N₂ : Type u_16\n",
      "ι✝ : Type u_17\n",
      "V : Type u_18\n",
      "V₂ : Type u_19\n",
      "ι : Type u_20\n",
      "inst✝² : Fintype ι\n",
      "inst✝¹ : DecidableEq ι\n",
      "R : Type u_21\n",
      "inst✝ : Semiring R\n",
      "x : ι → R\n",
      "⊢ x = ∑ i : ι, x i • fun j => if i = j then 1 else 0\n"
     ]
    }
   ],
   "source": [
    "print(state_0.pp)"
   ]
  },
  {
   "cell_type": "code",
   "execution_count": 17,
   "id": "d64607ab-a74b-4f11-9efb-bcf1521a8487",
   "metadata": {},
   "outputs": [
    {
     "name": "stdout",
     "output_type": "stream",
     "text": [
      "R✝ : Type u_1\n",
      "R₁ : Type u_2\n",
      "R₂ : Type u_3\n",
      "R₃ : Type u_4\n",
      "R₄ : Type u_5\n",
      "S : Type u_6\n",
      "K : Type u_7\n",
      "K₂ : Type u_8\n",
      "M : Type u_9\n",
      "M' : Type u_10\n",
      "M₁ : Type u_11\n",
      "M₂ : Type u_12\n",
      "M₃ : Type u_13\n",
      "M₄ : Type u_14\n",
      "N : Type u_15\n",
      "N₂ : Type u_16\n",
      "ι✝ : Type u_17\n",
      "V : Type u_18\n",
      "V₂ : Type u_19\n",
      "ι : Type u_20\n",
      "inst✝² : Fintype ι\n",
      "inst✝¹ : DecidableEq ι\n",
      "R : Type u_21\n",
      "inst✝ : Semiring R\n",
      "⊢ ∀ (x : ι → R), x = ∑ i : ι, x i • fun j => if i = j then 1 else 0\n"
     ]
    }
   ],
   "source": [
    "state_1 = dojo.run_tac(state_0, \"revert n\")\n",
    "\n",
    "print(state_1.pp)"
   ]
  },
  {
   "cell_type": "code",
   "execution_count": 18,
   "id": "a732b232-68ad-4ab9-9177-470e2d14968d",
   "metadata": {},
   "outputs": [
    {
     "data": {
      "text/plain": [
       "LeanError(error='<stdin>:1:1: unknown tactic')"
      ]
     },
     "execution_count": 18,
     "metadata": {},
     "output_type": "execute_result"
    }
   ],
   "source": [
    "state_2 = dojo.run_tac(state_0, \"hello world!\")\n",
    "\n",
    "state_2"
   ]
  },
  {
   "cell_type": "code",
   "execution_count": 19,
   "id": "767a5ad5-885e-4c55-89d6-69f5b6d1fd85",
   "metadata": {},
   "outputs": [
    {
     "ename": "RuntimeError",
     "evalue": "Attempting to run a tactic on an invalid state LeanError(error='<stdin>:1:1: unknown tactic').",
     "output_type": "error",
     "traceback": [
      "\u001b[0;31m---------------------------------------------------------------------------\u001b[0m",
      "\u001b[0;31mRuntimeError\u001b[0m                              Traceback (most recent call last)",
      "Cell \u001b[0;32mIn[19], line 1\u001b[0m\n\u001b[0;32m----> 1\u001b[0m \u001b[43mdojo\u001b[49m\u001b[38;5;241;43m.\u001b[39;49m\u001b[43mrun_tac\u001b[49m\u001b[43m(\u001b[49m\u001b[43mstate_2\u001b[49m\u001b[43m,\u001b[49m\u001b[43m \u001b[49m\u001b[38;5;124;43m\"\u001b[39;49m\u001b[38;5;124;43mskip\u001b[39;49m\u001b[38;5;124;43m\"\u001b[39;49m\u001b[43m)\u001b[49m\n",
      "File \u001b[0;32m~/miniconda3/envs/ml4tp/lib/python3.10/site-packages/lean_dojo/interaction/dojo.py:489\u001b[0m, in \u001b[0;36mDojo.run_tac\u001b[0;34m(self, state, tactic)\u001b[0m\n\u001b[1;32m    487\u001b[0m \u001b[38;5;28;01mdef\u001b[39;00m \u001b[38;5;21mrun_tac\u001b[39m(\u001b[38;5;28mself\u001b[39m, state: TacticState, tactic: \u001b[38;5;28mstr\u001b[39m) \u001b[38;5;241m-\u001b[39m\u001b[38;5;241m>\u001b[39m TacticResult:\n\u001b[1;32m    488\u001b[0m     \u001b[38;5;28;01mif\u001b[39;00m \u001b[38;5;129;01mnot\u001b[39;00m \u001b[38;5;28misinstance\u001b[39m(state, TacticState):\n\u001b[0;32m--> 489\u001b[0m         \u001b[38;5;28;01mraise\u001b[39;00m \u001b[38;5;167;01mRuntimeError\u001b[39;00m(\n\u001b[1;32m    490\u001b[0m             \u001b[38;5;124mf\u001b[39m\u001b[38;5;124m\"\u001b[39m\u001b[38;5;124mAttempting to run a tactic on an invalid state \u001b[39m\u001b[38;5;132;01m{\u001b[39;00mstate\u001b[38;5;132;01m}\u001b[39;00m\u001b[38;5;124m.\u001b[39m\u001b[38;5;124m\"\u001b[39m\n\u001b[1;32m    491\u001b[0m         )\n\u001b[1;32m    492\u001b[0m     \u001b[38;5;28;01massert\u001b[39;00m \u001b[38;5;28misinstance\u001b[39m(tactic, \u001b[38;5;28mstr\u001b[39m), \u001b[38;5;124mf\u001b[39m\u001b[38;5;124m\"\u001b[39m\u001b[38;5;124mInvalid tactic \u001b[39m\u001b[38;5;132;01m{\u001b[39;00mtactic\u001b[38;5;132;01m}\u001b[39;00m\u001b[38;5;124m\"\u001b[39m\n\u001b[1;32m    494\u001b[0m     tsid \u001b[38;5;241m=\u001b[39m state\u001b[38;5;241m.\u001b[39mid\n",
      "\u001b[0;31mRuntimeError\u001b[0m: Attempting to run a tactic on an invalid state LeanError(error='<stdin>:1:1: unknown tactic')."
     ]
    }
   ],
   "source": [
    "dojo.run_tac(state_2, \"skip\")"
   ]
  },
  {
   "cell_type": "code",
   "execution_count": null,
   "id": "bba5afbd-5f34-41cc-986e-40c11bd33eda",
   "metadata": {},
   "outputs": [],
   "source": [
    "state_3 = dojo.run_tac(state_0, \"cases n\")"
   ]
  },
  {
   "cell_type": "code",
   "execution_count": null,
   "id": "4bcd7bb0-6e11-4ec8-ad67-9e67aac8787b",
   "metadata": {},
   "outputs": [],
   "source": [
    "state_4 = dojo.run_tac(state_3, \"simp [gcd, mod_self]\")"
   ]
  },
  {
   "cell_type": "code",
   "execution_count": null,
   "id": "430e4689-df24-4630-a066-6fd4b5d3e958",
   "metadata": {},
   "outputs": [],
   "source": [
    "state_5 = dojo.run_tac(state_4, \"simp [gcd, mod_self]\")\n",
    "\n",
    "state_5"
   ]
  },
  {
   "cell_type": "markdown",
   "id": "7b7accca-8a4e-4c1f-b6b0-8946582bd8ea",
   "metadata": {},
   "source": [
    "## Using the Model in Lean"
   ]
  },
  {
   "cell_type": "code",
   "execution_count": null,
   "id": "dd3bee98-59e0-4058-bac0-a2e790e73883",
   "metadata": {},
   "outputs": [],
   "source": []
  },
  {
   "cell_type": "code",
   "execution_count": null,
   "id": "ba84f509-8708-4f3f-9904-729f5e94d9f7",
   "metadata": {},
   "outputs": [],
   "source": []
  }
 ],
 "metadata": {
  "kernelspec": {
   "display_name": "Python 3 (ipykernel)",
   "language": "python",
   "name": "python3"
  },
  "language_info": {
   "codemirror_mode": {
    "name": "ipython",
    "version": 3
   },
   "file_extension": ".py",
   "mimetype": "text/x-python",
   "name": "python",
   "nbconvert_exporter": "python",
   "pygments_lexer": "ipython3",
   "version": "3.10.13"
  }
 },
 "nbformat": 4,
 "nbformat_minor": 5
}
